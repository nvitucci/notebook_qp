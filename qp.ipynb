{
 "cells": [
  {
   "cell_type": "markdown",
   "metadata": {},
   "source": [
    "# Quadratic programming examples"
   ]
  },
  {
   "cell_type": "markdown",
   "metadata": {},
   "source": [
    "A quadratic programming problem can be expressed in the following form:\n",
    "\n",
    "$$\n",
    "\\begin{align}\n",
    "\\text{minimize} & \\quad \\frac{1}{2}x^T Q x + p^T x \\\\\n",
    "\\text{subject to} & \\quad\n",
    "\\begin{cases}\n",
    "G x \\le h \\\\\n",
    "A x = b\n",
    "\\end{cases}\n",
    "\\end{align}\n",
    "$$\n",
    "\n",
    "where:\n",
    "- $p$ is a real-valued, $n$-dimensional vector;\n",
    "- $Q$ is an $n \\times n$-dimensional real symmetric matrix;\n",
    "- $G$ is an $m \\times n$-dimensional real matrix;\n",
    "- $h$ is an $m$-dimensional real vector;\n",
    "- $A$ is a $p \\times n$-dimensional real matrix;\n",
    "- $b$ is a $p$-dimensional real vector.\n",
    "\n",
    "We will use the [qpsolvers](https://github.com/stephane-caron/qpsolvers) library, together with [numpy](https://numpy.org/), to formulate and solve a few examples of quadratic programming problems. Both libraries can be installed with `pip` as explained in the README file; once installed, we can import them as follows:"
   ]
  },
  {
   "cell_type": "code",
   "execution_count": 3,
   "metadata": {},
   "outputs": [],
   "source": [
    "import numpy as np\n",
    "\n",
    "from qpsolvers import solve_qp"
   ]
  },
  {
   "cell_type": "markdown",
   "metadata": {},
   "source": [
    "## Example 1 \n",
    "\n",
    "This example is taken from [CVXOPT](https://cvxopt.org/examples/tutorial/qp) and is formulated as follows:\n",
    "\n",
    "$$\n",
    "\\begin{align}\n",
    "\\text{minimize} & \\quad f(x) = 2x_1^2 + x_2^2 + x_1x_2 + x_1 + x_2 \\\\\n",
    "\\text{subject to} & \\quad\n",
    "\\begin{cases}\n",
    "x_1 \\ge 0 \\\\\n",
    "x_2 \\ge 0 \\\\\n",
    "x_1 + x_2 = 1\n",
    "\\end{cases}\n",
    "\\end{align}\n",
    "$$\n",
    "\n",
    "We need to extract the $Q$ matrix first. We have 2 variables, so for the quadratic term we have:\n",
    "\n",
    "$\n",
    "\\begin{align}\n",
    "q(x) & = \\dfrac{1}{2}x^T Q x \\\\\n",
    "& = \\dfrac{1}{2} \\begin{bmatrix}x_1 & x_2\\end{bmatrix}\\begin{bmatrix}a_{11} & a_{12} \\\\ a_{21} & a_{22}\\end{bmatrix}\\begin{bmatrix}x_1 \\\\ x_2\\end{bmatrix} \\\\\n",
    "& = \\dfrac{1}{2} \\sum\\limits_{i=1}^2 \\sum\\limits_{j=1}^2 a_{ij} x_i x_j \\\\\n",
    "& = \\dfrac{1}{2} (a_{11} x_1 x_1 + a_{12} x_1 x_2 + a_{21} x_2 x_1 + a_{22} x_2 x_2) \\\\\n",
    "& = \\dfrac{1}{2} (a_{11} x_1^2 + a_{22} x_2^2 + (a_{12} + a_{21}) x_1 x_2)\n",
    "\\end{align}\n",
    "$\n",
    "\n",
    "Since $Q$ is assumed to be symmetric we have that $a_{12} = a_{21}$, so that:\n",
    "\n",
    "$\n",
    "q(x) = \\dfrac{1}{2} a_{11} x_1^2 + \\dfrac{1}{2} a_{22} x_2^2 + a_{12} x_1 x_2\n",
    "$\n",
    "\n",
    "Now we can find the values for the elements $a_{ij}$:\n",
    "\n",
    "$\n",
    "\\begin{cases}\n",
    "\\dfrac{1}{2} a_{11} & = 2 \\implies a_{11} = 4 \\\\\n",
    "\\dfrac{1}{2} a_{22} & = 1 \\implies a_{22} = 2 \\\\\n",
    "a_{12} & = 1\n",
    "\\end{cases}\n",
    "$\n",
    "\n",
    "and write the $Q$ matrix as:\n",
    "\n",
    "$Q = \\begin{bmatrix}4 & 1 \\\\ 1 & 2\\end{bmatrix}$\n",
    "\n",
    "or, in order to show the quadratic coefficients more clearly, as:\n",
    "\n",
    "$Q = 2 * \\begin{bmatrix}2 & \\dfrac{1}{2} \\\\ \\dfrac{1}{2} & 1\\end{bmatrix}$"
   ]
  },
  {
   "cell_type": "code",
   "execution_count": 4,
   "metadata": {},
   "outputs": [],
   "source": [
    "Q = 2 * np.array([[2, 0.5], [0.5, 1]])"
   ]
  },
  {
   "cell_type": "markdown",
   "metadata": {},
   "source": [
    "The linear term is straightforward:\n",
    "\n",
    "$\n",
    "p(x) = p^T x = \\begin{bmatrix}x_1 & x_2\\end{bmatrix}\\begin{bmatrix}a_1 \\\\ a_2\\end{bmatrix} = a_1 x_1 + a_2 x_2\n",
    "$\n",
    "\n",
    "resulting in:\n",
    "\n",
    "$\n",
    "\\begin{cases}\n",
    "a_1 = 1 \\\\\n",
    "a_2 = 1\n",
    "\\end{cases}\n",
    "$\n",
    "\n",
    "from which the $p$ vector can be written as:\n",
    "\n",
    "$\n",
    "p = \\begin{bmatrix}1 & 1\\end{bmatrix}\n",
    "$"
   ]
  },
  {
   "cell_type": "code",
   "execution_count": 5,
   "metadata": {},
   "outputs": [],
   "source": [
    "p = np.array([1.0, 1.0])"
   ]
  },
  {
   "cell_type": "markdown",
   "metadata": {},
   "source": [
    "We have two inequality constraints, $x_1 \\ge 0$ and $x_2 \\ge 0$. We need to write them in the form $G x \\le h$, so we have:\n",
    "\n",
    "$\n",
    "\\begin{align}\n",
    "\\begin{cases}\n",
    "-x_1 &+ 0x_2 & \\le 0 \\\\\n",
    "0x_2 &- x_2 & \\le 0\n",
    "\\end{cases}\n",
    "\\end{align}\n",
    "$\n",
    "\n",
    "from which we derive:\n",
    "\n",
    "$\n",
    "\\begin{bmatrix}-1 & 0 \\\\ 0 & -1\\end{bmatrix} \\begin{bmatrix}x_1 \\\\ x_2 \\end{bmatrix} \\le \\begin{bmatrix}0 \\\\ 0 \\end{bmatrix} \\implies \n",
    "G = \\begin{bmatrix}-1 & 0 \\\\ 0 & -1\\end{bmatrix} , h = \\begin{bmatrix}0 \\\\ 0 \\end{bmatrix}\n",
    "$"
   ]
  },
  {
   "cell_type": "code",
   "execution_count": 6,
   "metadata": {},
   "outputs": [],
   "source": [
    "G = np.array([[-1.0, 0.0], [0.0, -1.0]])\n",
    "h = np.array([0.0, 0.0])"
   ]
  },
  {
   "cell_type": "markdown",
   "metadata": {},
   "source": [
    "Finally, we have an equality constraint $x_1 + x_2 = 1$, that we can represent as:\n",
    "\n",
    "$\n",
    "\\begin{bmatrix}1 & 1\\end{bmatrix} \\begin{bmatrix}x_1 \\\\ x_2 \\end{bmatrix} = \\begin{bmatrix}1\\end{bmatrix} \\implies \n",
    "A = \\begin{bmatrix}1 & 1\\end{bmatrix} , b = \\begin{bmatrix}1\\end{bmatrix}\n",
    "$"
   ]
  },
  {
   "cell_type": "code",
   "execution_count": 7,
   "metadata": {},
   "outputs": [],
   "source": [
    "A = np.array([1.0, 1.0])\n",
    "b = np.array([1.0])"
   ]
  },
  {
   "cell_type": "markdown",
   "metadata": {},
   "source": [
    "We now have everything we need to run the solver, which will return the optimal solution $x^* = \\begin{bmatrix}x^*_1 & x^*_2\\end{bmatrix}$."
   ]
  },
  {
   "cell_type": "code",
   "execution_count": 8,
   "metadata": {},
   "outputs": [
    {
     "name": "stdout",
     "output_type": "stream",
     "text": [
      "[0.25 0.75]\n"
     ]
    }
   ],
   "source": [
    "x_star = solve_qp(Q, p, G, h, A, b)\n",
    "print(x_star)"
   ]
  },
  {
   "cell_type": "markdown",
   "metadata": {},
   "source": [
    "The `solve_qp` method uses the [quadprog](https://pypi.python.org/pypi/quadprog/) solver by default, but it can be used with other solvers as well; take a look at the [project's page](https://github.com/stephane-caron/qpsolvers#solvers) to find the list of supported solvers."
   ]
  },
  {
   "cell_type": "markdown",
   "metadata": {},
   "source": [
    "## Example 2 \n",
    "\n",
    "This example is taken from the [Northwestern University website](https://optimization.mccormick.northwestern.edu/index.php/Quadratic_programming#Numerical_example) and is formulated as follows:\n",
    "\n",
    "$$\n",
    "\\begin{align}\n",
    "\\text{minimize} & \\quad f(x) = 3x_1^2 + x_2^2 + 2x_1x_2 + x_1 + 6x_2 + 2 \\\\\n",
    "\\text{subject to} & \\quad\n",
    "\\begin{cases}\n",
    "2x_1 + 3x_2 \\ge 4 \\\\\n",
    "x_1 \\ge 0 \\\\\n",
    "x_2 \\ge 0\n",
    "\\end{cases}\n",
    "\\end{align}\n",
    "$$\n",
    "\n",
    "The constant term $2$ in the objective function can be discarded. Since there are no equality constraints, we will only have $G$ and $h$; let's keep in mind that the inequality contraints have to be expressed as $Gx \\le h$."
   ]
  },
  {
   "cell_type": "code",
   "execution_count": 9,
   "metadata": {},
   "outputs": [
    {
     "name": "stdout",
     "output_type": "stream",
     "text": [
      "[0.5 1. ]\n"
     ]
    }
   ],
   "source": [
    "Q = 2 * np.array([[3.0, 1.0], [1.0, 1.0]])\n",
    "p = np.array([1.0, 6.0])\n",
    "G = np.array([[-2.0, -3.0], [-1.0, 0.0], [0.0, -1.0]])\n",
    "h = np.array([-4.0, 0.0, 0.0])\n",
    "\n",
    "x_star = solve_qp(Q, p, G, h)\n",
    "print(x_star)"
   ]
  },
  {
   "cell_type": "markdown",
   "metadata": {},
   "source": [
    "Since the objective function can be expressed as $f(x) = \\frac{1}{2}x^T Q x + p^T x$, its value in $x^*$ can be found as follows:"
   ]
  },
  {
   "cell_type": "code",
   "execution_count": 10,
   "metadata": {},
   "outputs": [
    {
     "name": "stdout",
     "output_type": "stream",
     "text": [
      "11.25\n"
     ]
    }
   ],
   "source": [
    "f = 0.5 * x_star.T @ Q @ x_star + p.T @ x_star + 2\n",
    "print(f)"
   ]
  },
  {
   "cell_type": "markdown",
   "metadata": {},
   "source": [
    "## Example 3\n",
    "\n",
    "This example is taken from the [Matlab website](https://uk.mathworks.com/help/optim/ug/quadprog.html) and is formulated as follows:\n",
    "\n",
    "$$\n",
    "\\begin{align}\n",
    "\\text{minimize} & \\quad f(x) = \\dfrac{1}{2} x_1^2 + x_2^2 − x_1 x_2 − 2 x_1 − 6 x_2 \\\\\n",
    "\\text{subject to} & \\quad\n",
    "\\begin{cases}\n",
    "x_1 + x_2 \\le 2 \\\\\n",
    "-x_1 + 2 x_2 \\le 2 \\\\\n",
    "2 x_1 + x_2 \\le 3\n",
    "\\end{cases}\n",
    "\\end{align}\n",
    "$$\n",
    "\n",
    "This time, instead of using float numbers, we will declare the type of each variable explicitly with `dtype`:"
   ]
  },
  {
   "cell_type": "code",
   "execution_count": 11,
   "metadata": {},
   "outputs": [
    {
     "name": "stdout",
     "output_type": "stream",
     "text": [
      "[0.66666667 1.33333333]\n"
     ]
    }
   ],
   "source": [
    "Q = np.array([[1, -1], [-1, 2]], dtype=np.float)\n",
    "p = np.array([-2, -6], dtype=np.float)\n",
    "\n",
    "G = np.array([[1, 1], [-1, 2], [2, 1]], dtype=np.float)\n",
    "h = np.array([2, 2, 3], dtype=np.float)\n",
    "\n",
    "x_star = solve_qp(Q, p, G, h)\n",
    "print(x_star)"
   ]
  },
  {
   "cell_type": "markdown",
   "metadata": {},
   "source": [
    "Value of the objective function in $x^*$:"
   ]
  },
  {
   "cell_type": "code",
   "execution_count": 12,
   "metadata": {},
   "outputs": [
    {
     "name": "stdout",
     "output_type": "stream",
     "text": [
      "-8.222222222222218\n"
     ]
    }
   ],
   "source": [
    "f = 0.5 * x_star.T @ Q @ x_star + p.T @ x_star\n",
    "print(f)"
   ]
  }
 ],
 "metadata": {
  "kernelspec": {
   "display_name": "Python 3",
   "language": "python",
   "name": "python3"
  },
  "language_info": {
   "codemirror_mode": {
    "name": "ipython",
    "version": 3
   },
   "file_extension": ".py",
   "mimetype": "text/x-python",
   "name": "python",
   "nbconvert_exporter": "python",
   "pygments_lexer": "ipython3",
   "version": "3.7.5"
  }
 },
 "nbformat": 4,
 "nbformat_minor": 2
}
